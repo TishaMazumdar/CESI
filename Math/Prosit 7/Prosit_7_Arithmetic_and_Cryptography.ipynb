{
  "nbformat": 4,
  "nbformat_minor": 0,
  "metadata": {
    "colab": {
      "provenance": []
    },
    "kernelspec": {
      "name": "python3",
      "display_name": "Python 3"
    },
    "language_info": {
      "name": "python"
    }
  },
  "cells": [
    {
      "cell_type": "markdown",
      "source": [
        "# Step 1: Deciphering the GPS coordinates"
      ],
      "metadata": {
        "id": "35qTuHD5CP0t"
      }
    },
    {
      "cell_type": "code",
      "execution_count": 1,
      "metadata": {
        "colab": {
          "base_uri": "https://localhost:8080/"
        },
        "id": "dtJZHJHZCBvN",
        "outputId": "882ff1b1-a2ae-4336-abdd-b775bab918f8"
      },
      "outputs": [
        {
          "name": "stdout",
          "output_type": "stream",
          "text": [
            "Enter encrypted message for the GPS Coordinates: 9153787770964\n"
          ]
        }
      ],
      "source": [
        "# secret_code = 9153787770964\n",
        "\n",
        "secret_code = input(\"Enter encrypted message for the GPS Coordinates: \")"
      ]
    },
    {
      "cell_type": "code",
      "source": [
        "def decode_coordinates(secret_code):\n",
        "  decoded_code = \"\"\n",
        "  for digit in secret_code:\n",
        "    shifted_digit = str((int(digit) - 4) % 10)  # Shift 4 places, wrap around at 10\n",
        "    decoded_code += shifted_digit\n",
        "\n",
        "  return decoded_code"
      ],
      "metadata": {
        "id": "6zJjHTJBCcUu"
      },
      "execution_count": 21,
      "outputs": []
    },
    {
      "cell_type": "code",
      "source": [
        "decoded_coordinates = decode_coordinates(secret_code)\n",
        "decoded_coordinates"
      ],
      "metadata": {
        "colab": {
          "base_uri": "https://localhost:8080/",
          "height": 36
        },
        "id": "6EMK_vyeC_xn",
        "outputId": "914087f6-0009-4ab7-f002-bda849708035"
      },
      "execution_count": 22,
      "outputs": [
        {
          "output_type": "execute_result",
          "data": {
            "text/plain": [
              "'5719343336520'"
            ],
            "application/vnd.google.colaboratory.intrinsic+json": {
              "type": "string"
            }
          },
          "metadata": {},
          "execution_count": 22
        }
      ]
    },
    {
      "cell_type": "code",
      "source": [
        "len(decoded_coordinates)"
      ],
      "metadata": {
        "colab": {
          "base_uri": "https://localhost:8080/"
        },
        "id": "xRFHGwVOGfXq",
        "outputId": "0071c94c-cb3f-44bd-9530-0692cc020060"
      },
      "execution_count": 23,
      "outputs": [
        {
          "output_type": "execute_result",
          "data": {
            "text/plain": [
              "13"
            ]
          },
          "metadata": {},
          "execution_count": 23
        }
      ]
    },
    {
      "cell_type": "code",
      "source": [
        "# Latitude\n",
        "lat_deg = decoded_coordinates[0]+decoded_coordinates[1]\n",
        "lat_min = decoded_coordinates[2]+decoded_coordinates[3]\n",
        "lat_sec = decoded_coordinates[4]+decoded_coordinates[5]\n",
        "lat_dec = decoded_coordinates[6]"
      ],
      "metadata": {
        "id": "zs9ZhmL-DI9F"
      },
      "execution_count": 24,
      "outputs": []
    },
    {
      "cell_type": "code",
      "source": [
        "#Longitude\n",
        "long_deg = decoded_coordinates[7]\n",
        "long_min = decoded_coordinates[8]+decoded_coordinates[9]\n",
        "long_sec = decoded_coordinates[10]+decoded_coordinates[11]\n",
        "long_dec = decoded_coordinates[12]"
      ],
      "metadata": {
        "id": "4u5quYJxGb_l"
      },
      "execution_count": 25,
      "outputs": []
    },
    {
      "cell_type": "code",
      "source": [
        "print(f\"The coordinates are:\\n{lat_deg}°{lat_min}'{lat_sec}.{lat_dec}\\\"N {long_deg}°{long_min}'{long_sec}.{long_dec}\\\"W\")"
      ],
      "metadata": {
        "colab": {
          "base_uri": "https://localhost:8080/"
        },
        "id": "tldZCmKnHAD6",
        "outputId": "949e9590-1d6d-40ca-bb4a-5ac8d818068f"
      },
      "execution_count": 26,
      "outputs": [
        {
          "output_type": "stream",
          "name": "stdout",
          "text": [
            "The coordinates are:\n",
            "57°19'34.3\"N 3°36'52.0\"W\n"
          ]
        }
      ]
    },
    {
      "cell_type": "markdown",
      "source": [
        "4 steps to left (-4):\n",
        "\n",
        "Woodlands Terrace, Grantown-on-Spey, PH26 3JX, United Kingdom\n",
        "\n",
        "The coordinates are:\n",
        "57°19'34.3\"N 3°36'52.0\"W\n"
      ],
      "metadata": {
        "id": "SyMfJuLlM68_"
      }
    },
    {
      "cell_type": "markdown",
      "source": [
        "------"
      ],
      "metadata": {
        "id": "4txsnYPZNvof"
      }
    },
    {
      "cell_type": "markdown",
      "source": [
        "4 steps to right (+4):\n",
        "\n",
        "Mediterranean Sea\n",
        "\n",
        "The coordinates are:\n",
        "35°97'12.1\"N 1°14'30.8\"W"
      ],
      "metadata": {
        "id": "occEXa1VNhn2"
      }
    },
    {
      "cell_type": "markdown",
      "source": [
        "# Step 2: Deciphering the message on the scroll"
      ],
      "metadata": {
        "id": "4QjsahePJ73g"
      }
    },
    {
      "cell_type": "markdown",
      "source": [
        "N - modulus (3233)\n",
        "\n",
        "E - exponent (17)\n",
        "\n",
        "---\n",
        "\n",
        "D = E^(-1)modφ(N)\n",
        "\n",
        "φ(N) - totient function of N\n",
        "\n",
        "---\n",
        "\n",
        "N = 3233 = 61 x 53\n",
        "\n",
        "p = 61\n",
        "\n",
        "q = 53\n",
        "\n",
        "---\n",
        "\n",
        "φ(N) = (p-1)x(q-1) = 60 x 52 = 3120"
      ],
      "metadata": {
        "id": "q-NDq7GwbAMw"
      }
    },
    {
      "cell_type": "code",
      "source": [
        "E = 17\n",
        "phi_N = 3120"
      ],
      "metadata": {
        "id": "dJ3i_3ODLX3Q"
      },
      "execution_count": 10,
      "outputs": []
    },
    {
      "cell_type": "code",
      "source": [
        "from sympy import mod_inverse"
      ],
      "metadata": {
        "id": "XJlgQwGEaJ9c"
      },
      "execution_count": 11,
      "outputs": []
    },
    {
      "cell_type": "code",
      "source": [
        "D = mod_inverse(E, phi_N)"
      ],
      "metadata": {
        "id": "iZaOvzHVZpYR"
      },
      "execution_count": 12,
      "outputs": []
    },
    {
      "cell_type": "code",
      "source": [
        "D"
      ],
      "metadata": {
        "colab": {
          "base_uri": "https://localhost:8080/"
        },
        "id": "MCMhdkj9L23T",
        "outputId": "58fc966b-7e23-4034-d93c-6852f5f55a56"
      },
      "execution_count": 13,
      "outputs": [
        {
          "output_type": "execute_result",
          "data": {
            "text/plain": [
              "2753"
            ]
          },
          "metadata": {},
          "execution_count": 13
        }
      ]
    },
    {
      "cell_type": "markdown",
      "source": [
        "## Cipher text decoding through RSA"
      ],
      "metadata": {
        "id": "efj-PHjscNgM"
      }
    },
    {
      "cell_type": "markdown",
      "source": [
        "Decryption - m(c) = c^d mod n\n",
        "\n",
        "---\n",
        "\n",
        "pow(x, y, z)\n",
        "\n",
        "x\tA number, the base\n",
        "\n",
        "y\tA number, the exponent\n",
        "\n",
        "z\tOptional. A number, the modulus"
      ],
      "metadata": {
        "id": "QmiYiBwVeBgC"
      }
    },
    {
      "cell_type": "code",
      "source": [
        "cipher_text = [2726, 1313, 1992, 884, 2412, 1453, 1230, 2185, 2412, 1992, 1313, 1230, 884, 1992, 281, 1632, 281, 2170, 1453, 1992, 1230, 2185, 2160, 1230, 1992, 745, 1632, 1992, 612, 745, 1632, 1627, 2160, 1313, 1992, 2412, 2185, 2160, 2923, 1313]"
      ],
      "metadata": {
        "id": "Yejuu52laZ9v"
      },
      "execution_count": 14,
      "outputs": []
    },
    {
      "cell_type": "code",
      "source": [
        "N = 3233"
      ],
      "metadata": {
        "id": "w8bqPS7xcUDP"
      },
      "execution_count": 15,
      "outputs": []
    },
    {
      "cell_type": "code",
      "source": [
        "def decrypt_rsa(cipher_text, D, N):\n",
        "  decrypted_text = [pow(c,D,N) for c in cipher_text]\n",
        "  return decrypted_text"
      ],
      "metadata": {
        "id": "xpEyr_LIcVgX"
      },
      "execution_count": 16,
      "outputs": []
    },
    {
      "cell_type": "code",
      "source": [
        "decrypted_numbers = decrypt_rsa(cipher_text, D, N)"
      ],
      "metadata": {
        "id": "jTePVbyAchbG"
      },
      "execution_count": 17,
      "outputs": []
    },
    {
      "cell_type": "code",
      "source": [
        "decrypted_numbers"
      ],
      "metadata": {
        "colab": {
          "base_uri": "https://localhost:8080/"
        },
        "id": "vWoTJqPJcj0N",
        "outputId": "feb3c122-a054-42b0-cac2-69ba3b10d287"
      },
      "execution_count": 18,
      "outputs": [
        {
          "output_type": "execute_result",
          "data": {
            "text/plain": [
              "[76,\n",
              " 101,\n",
              " 32,\n",
              " 116,\n",
              " 114,\n",
              " 233,\n",
              " 115,\n",
              " 111,\n",
              " 114,\n",
              " 32,\n",
              " 101,\n",
              " 115,\n",
              " 116,\n",
              " 32,\n",
              " 99,\n",
              " 97,\n",
              " 99,\n",
              " 104,\n",
              " 233,\n",
              " 32,\n",
              " 115,\n",
              " 111,\n",
              " 117,\n",
              " 115,\n",
              " 32,\n",
              " 108,\n",
              " 97,\n",
              " 32,\n",
              " 112,\n",
              " 108,\n",
              " 97,\n",
              " 113,\n",
              " 117,\n",
              " 101,\n",
              " 32,\n",
              " 114,\n",
              " 111,\n",
              " 117,\n",
              " 103,\n",
              " 101]"
            ]
          },
          "metadata": {},
          "execution_count": 18
        }
      ]
    },
    {
      "cell_type": "code",
      "source": [
        "for alphabet in decrypted_numbers:\n",
        "  print(chr(alphabet), end=\"\")"
      ],
      "metadata": {
        "colab": {
          "base_uri": "https://localhost:8080/"
        },
        "id": "8nFPzw1vcpDY",
        "outputId": "76d29a1a-a511-4c9c-ac7b-3c3da00b91fe"
      },
      "execution_count": 19,
      "outputs": [
        {
          "output_type": "stream",
          "name": "stdout",
          "text": [
            "Le trésor est caché sous la plaque rouge"
          ]
        }
      ]
    }
  ]
}