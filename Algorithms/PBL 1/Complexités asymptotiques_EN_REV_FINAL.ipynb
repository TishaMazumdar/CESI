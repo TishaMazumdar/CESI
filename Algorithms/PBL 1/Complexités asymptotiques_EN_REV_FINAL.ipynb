{
 "cells": [
  {
   "cell_type": "code",
   "execution_count": 1,
   "metadata": {},
   "outputs": [
    {
     "data": {
      "application/vnd.jupyter.widget-view+json": {
       "model_id": "88a0f58b60f549d9b104b6022d620fed",
       "version_major": 2,
       "version_minor": 0
      },
      "text/plain": [
       "interactive(children=(IntSlider(value=8, description='$n$ max', max=50), Output()), _dom_classes=('widget-inte…"
      ]
     },
     "metadata": {},
     "output_type": "display_data"
    }
   ],
   "source": [
    "import numpy as np\n",
    "import matplotlib.pyplot as plt\n",
    "from matplotlib.pyplot import figure\n",
    "from ipywidgets import interact\n",
    "import ipywidgets as widgets\n",
    "\n",
    "def trace(max):\n",
    " x=np.arange(1, max, 0.1)\n",
    "    \n",
    " plt.plot(x, [pow(2, x) for x in x], label=\"exponential\")\n",
    " plt.plot(x, [pow(x, 3) for x in x], label=\"cubic\")\n",
    " plt.plot(x, [pow(x, 2) for x in x], label=\"quadratic\")\n",
    " plt.plot(x, [x*np.log2(x) for x in x], label=\"quasi-linear\")\n",
    " plt.plot(x, x, label=\"linear\")\n",
    " plt.plot(x, [np.log2(x) for x in x], label=\"logarithmic\")\n",
    "    \n",
    " plt.xlabel(\"$n$\", fontsize=16)\n",
    " plt.ylabel(\"$O(n)$\", fontsize=16)\n",
    " plt.legend()\n",
    " plt.xticks(range(1, max))\n",
    " plt.gcf().set_size_inches(18, 10)\n",
    " plt.show()\n",
    "\n",
    "interact(trace, max=widgets.IntSlider(min=0, max=50,step=1, value=8, description=\"$n$ max\"));"
   ]
  }
 ],
 "metadata": {
  "kernelspec": {
   "display_name": "Python 3",
   "language": "python",
   "name": "python3"
  },
  "language_info": {
   "codemirror_mode": {
    "name": "ipython",
    "version": 3
   },
   "file_extension": ".py",
   "mimetype": "text/x-python",
   "name": "python",
   "nbconvert_exporter": "python",
   "pygments_lexer": "ipython3",
   "version": "3.7.3"
  }
 },
 "nbformat": 4,
 "nbformat_minor": 2
}
